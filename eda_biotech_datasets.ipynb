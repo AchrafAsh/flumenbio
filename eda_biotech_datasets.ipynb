{
  "nbformat": 4,
  "nbformat_minor": 0,
  "metadata": {
    "colab": {
      "name": "eda_biotech_datasets.ipynb",
      "provenance": [],
      "authorship_tag": "ABX9TyNPy21LNQFj/9GXLK8SKAng",
      "include_colab_link": true
    },
    "kernelspec": {
      "name": "python3",
      "display_name": "Python 3"
    },
    "language_info": {
      "name": "python"
    }
  },
  "cells": [
    {
      "cell_type": "markdown",
      "metadata": {
        "id": "view-in-github",
        "colab_type": "text"
      },
      "source": [
        "<a href=\"https://colab.research.google.com/github/AchrafAsh/flumenbio/blob/main/eda_biotech_datasets.ipynb\" target=\"_parent\"><img src=\"https://colab.research.google.com/assets/colab-badge.svg\" alt=\"Open In Colab\"/></a>"
      ]
    },
    {
      "cell_type": "markdown",
      "metadata": {
        "id": "1L1U7ysJhkgI"
      },
      "source": [
        "# Exploratory Data Aanlysis of different biomedicine Datasets"
      ]
    },
    {
      "cell_type": "code",
      "metadata": {
        "colab": {
          "base_uri": "https://localhost:8080/"
        },
        "id": "4i9O0JdnjByI",
        "outputId": "95be3639-9506-45bc-d0ee-0afe89053996"
      },
      "source": [
        "import os, sys\n",
        "import os.path as osp\n",
        "from google.colab import drive, files\n",
        "drive.mount('/content/mnt')\n",
        "nb_path = '/content/notebooks'\n",
        "try:\n",
        "    os.symlink('/content/mnt/My Drive/Colab Notebooks', nb_path)\n",
        "except:\n",
        "    pass\n",
        "sys.path.insert(0, nb_path)  # or append(nb_path)"
      ],
      "execution_count": 1,
      "outputs": [
        {
          "output_type": "stream",
          "name": "stdout",
          "text": [
            "Mounted at /content/mnt\n"
          ]
        }
      ]
    },
    {
      "cell_type": "code",
      "metadata": {
        "id": "7NXwIpGwjG5n"
      },
      "source": [
        "import seaborn as sns\n",
        "import pandas as pd\n",
        "import numpy as np\n",
        "import matplotlib.pyplot as plt\n",
        "\n",
        "import torch\n",
        "\n",
        "from collections import Counter\n",
        "from torch_geometric.utils import to_dense_adj\n",
        "from tqdm.notebook import tqdm\n",
        "\n",
        "%matplotlib inline\n",
        "device = torch.device(\"cuda\" if torch.cuda.is_available() else 'cpu')"
      ],
      "execution_count": 2,
      "outputs": []
    },
    {
      "cell_type": "code",
      "metadata": {
        "id": "kldbg-8Pktq7"
      },
      "source": [
        "%%capture\n",
        "!wget https://raw.githubusercontent.com/AchrafAsh/gnn-receptive-fields/main/data.py\n",
        "\n",
        "from data import load_dataset\n",
        "path = osp.join(os.getcwd(), 'data')"
      ],
      "execution_count": 4,
      "outputs": []
    },
    {
      "cell_type": "markdown",
      "metadata": {
        "id": "-kQMVErzhq-J"
      },
      "source": [
        "## QM9\n",
        "\n",
        "Definition:\\\n",
        "Quantum chemical properties for a relevant, consistent, and comprehensive chemical space of small organic molecules.\\\n",
        "This database may serve for the identification of structure-property relationships.\n",
        "\n",
        "Description:\n",
        "- 130K molecules\n",
        "- 19 continuous features to predict\n",
        "\n",
        "More info: https://pytorch-geometric.readthedocs.io/en/latest/modules/datasets.html#torch_geometric.datasets.QM9"
      ]
    },
    {
      "cell_type": "code",
      "metadata": {
        "colab": {
          "base_uri": "https://localhost:8080/"
        },
        "id": "IjA6Zk3LivTc",
        "outputId": "3a7f015d-45e0-4ad2-fa49-8b3589ee8fd2"
      },
      "source": [
        "qm9 = load_dataset(path, \"QM9\")"
      ],
      "execution_count": 5,
      "outputs": [
        {
          "output_type": "stream",
          "name": "stdout",
          "text": [
            "Downloading https://pytorch-geometric.com/datasets/qm9_v2.zip\n",
            "Extracting /content/data/raw/qm9_v2.zip\n",
            "Processing...\n",
            "Using a pre-processed version of the dataset. Please install `rdkit` to alternatively process the raw data.\n",
            "Done!\n"
          ]
        }
      ]
    },
    {
      "cell_type": "code",
      "metadata": {
        "colab": {
          "base_uri": "https://localhost:8080/"
        },
        "id": "crYUfj_Jlnrp",
        "outputId": "6ce6a4a6-d8c0-404a-8c89-64aef617fdc1"
      },
      "source": [
        "len(qm9)"
      ],
      "execution_count": 12,
      "outputs": [
        {
          "output_type": "execute_result",
          "data": {
            "text/plain": [
              "130831"
            ]
          },
          "metadata": {},
          "execution_count": 12
        }
      ]
    },
    {
      "cell_type": "code",
      "metadata": {
        "id": "1CuZT0dulJv-"
      },
      "source": [
        "first_molecule = qm9[10]"
      ],
      "execution_count": 22,
      "outputs": []
    },
    {
      "cell_type": "code",
      "metadata": {
        "colab": {
          "base_uri": "https://localhost:8080/"
        },
        "id": "A523DA58laeg",
        "outputId": "31612c5d-752b-49ac-810f-18d688b7bca7"
      },
      "source": [
        "first_molecule.edge_attr"
      ],
      "execution_count": 23,
      "outputs": [
        {
          "output_type": "execute_result",
          "data": {
            "text/plain": [
              "tensor([[1., 0., 0., 0.],\n",
              "        [1., 0., 0., 0.],\n",
              "        [1., 0., 0., 0.],\n",
              "        [1., 0., 0., 0.],\n",
              "        [1., 0., 0., 0.],\n",
              "        [0., 1., 0., 0.],\n",
              "        [1., 0., 0., 0.],\n",
              "        [0., 1., 0., 0.],\n",
              "        [1., 0., 0., 0.],\n",
              "        [1., 0., 0., 0.],\n",
              "        [1., 0., 0., 0.],\n",
              "        [1., 0., 0., 0.]])"
            ]
          },
          "metadata": {},
          "execution_count": 23
        }
      ]
    },
    {
      "cell_type": "markdown",
      "metadata": {
        "id": "D2ZPKKGmlKWE"
      },
      "source": [
        "## Enzymes"
      ]
    },
    {
      "cell_type": "code",
      "metadata": {
        "id": "9EXenAeohtFV"
      },
      "source": [
        "enzymes = load_dataset(path, \"ENZYMES\")"
      ],
      "execution_count": null,
      "outputs": []
    },
    {
      "cell_type": "markdown",
      "metadata": {
        "id": "_2fdZrTulNXp"
      },
      "source": [
        "## Protein-Protein Interactions"
      ]
    },
    {
      "cell_type": "code",
      "metadata": {
        "id": "sL8iSTgMjcnA"
      },
      "source": [
        "ppi = load_dataset(path, \"PPI\")"
      ],
      "execution_count": null,
      "outputs": []
    }
  ]
}