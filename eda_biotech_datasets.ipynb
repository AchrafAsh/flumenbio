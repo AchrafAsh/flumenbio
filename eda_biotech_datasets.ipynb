{
  "nbformat": 4,
  "nbformat_minor": 0,
  "metadata": {
    "colab": {
      "name": "eda_biotech_datasets.ipynb",
      "provenance": [],
      "authorship_tag": "ABX9TyM2zW0wpTd1ssFRJK7pRevJ",
      "include_colab_link": true
    },
    "kernelspec": {
      "name": "python3",
      "display_name": "Python 3"
    },
    "language_info": {
      "name": "python"
    }
  },
  "cells": [
    {
      "cell_type": "markdown",
      "metadata": {
        "id": "view-in-github",
        "colab_type": "text"
      },
      "source": [
        "<a href=\"https://colab.research.google.com/github/AchrafAsh/flumenbio/blob/main/eda_biotech_datasets.ipynb\" target=\"_parent\"><img src=\"https://colab.research.google.com/assets/colab-badge.svg\" alt=\"Open In Colab\"/></a>"
      ]
    },
    {
      "cell_type": "markdown",
      "metadata": {
        "id": "1L1U7ysJhkgI"
      },
      "source": [
        "# Exploratory Data Aanlysis of different biomedicine Datasets"
      ]
    },
    {
      "cell_type": "code",
      "metadata": {
        "colab": {
          "base_uri": "https://localhost:8080/"
        },
        "id": "4i9O0JdnjByI",
        "outputId": "95be3639-9506-45bc-d0ee-0afe89053996"
      },
      "source": [
        "import os, sys\n",
        "import os.path as osp\n",
        "from google.colab import drive, files\n",
        "drive.mount('/content/mnt')\n",
        "nb_path = '/content/notebooks'\n",
        "try:\n",
        "    os.symlink('/content/mnt/My Drive/Colab Notebooks', nb_path)\n",
        "except:\n",
        "    pass\n",
        "sys.path.insert(0, nb_path)  # or append(nb_path)"
      ],
      "execution_count": 1,
      "outputs": [
        {
          "output_type": "stream",
          "name": "stdout",
          "text": [
            "Mounted at /content/mnt\n"
          ]
        }
      ]
    },
    {
      "cell_type": "code",
      "metadata": {
        "id": "7NXwIpGwjG5n"
      },
      "source": [
        "import seaborn as sns\n",
        "import pandas as pd\n",
        "import numpy as np\n",
        "import matplotlib.pyplot as plt\n",
        "\n",
        "import torch\n",
        "\n",
        "from collections import Counter\n",
        "from torch_geometric.utils import to_dense_adj\n",
        "from tqdm.notebook import tqdm\n",
        "\n",
        "%matplotlib inline\n",
        "device = torch.device(\"cuda\" if torch.cuda.is_available() else 'cpu')"
      ],
      "execution_count": 2,
      "outputs": []
    },
    {
      "cell_type": "markdown",
      "metadata": {
        "id": "-kQMVErzhq-J"
      },
      "source": [
        "## QM9\n",
        "\n",
        "Definition:\\\n",
        "Quantum chemical properties for a relevant, consistent, and comprehensive chemical space of small organic molecules.\\\n",
        "This database may serve for the identification of structure-property relationships."
      ]
    },
    {
      "cell_type": "code",
      "metadata": {
        "id": "IjA6Zk3LivTc"
      },
      "source": [
        "qm9 = load_dataset(path, \"QM9\")"
      ],
      "execution_count": null,
      "outputs": []
    },
    {
      "cell_type": "code",
      "metadata": {
        "id": "9EXenAeohtFV"
      },
      "source": [
        "enzymes = load_dataset(path, \"ENZYMES\")"
      ],
      "execution_count": null,
      "outputs": []
    },
    {
      "cell_type": "code",
      "metadata": {
        "id": "sL8iSTgMjcnA"
      },
      "source": [
        "ppi = load_dataset(path, \"PPI\")"
      ],
      "execution_count": null,
      "outputs": []
    }
  ]
}